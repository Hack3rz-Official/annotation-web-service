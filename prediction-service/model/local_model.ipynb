{
 "cells": [
  {
   "cell_type": "code",
   "execution_count": 23,
   "id": "74561b8c-344d-4b3c-8c26-7c627a75804e",
   "metadata": {},
   "outputs": [],
   "source": [
    "from SHModelUtils import SHModel\n",
    "import torch\n",
    "import torchvision\n",
    "import math\n",
    "import numpy as np\n",
    "from sklearn.utils import shuffle\n",
    "import ast"
   ]
  },
  {
   "cell_type": "code",
   "execution_count": 24,
   "id": "5b0ceaab-d706-4a64-b348-270c3e7c6d2b",
   "metadata": {
    "tags": []
   },
   "outputs": [],
   "source": [
    "lang_name = \"java\" \n",
    "MODEL = SHModel(lang_name, \"curr\")"
   ]
  },
  {
   "cell_type": "code",
   "execution_count": 25,
   "id": "d60c26ed-4bb3-40d1-8a76-7fd4325a87a9",
   "metadata": {},
   "outputs": [],
   "source": [
    "def data_preparation(filename):\n",
    "    X = []\n",
    "    T = []\n",
    "    DELIMITER = \"#\"\n",
    "    with open(filename, \"r\") as highlight_file:\n",
    "        lines = highlight_file.readlines()\n",
    "        for l in lines:\n",
    "            tok_ids = l.split(DELIMITER)[0]\n",
    "            h_code_values = l.split(DELIMITER)[1]\n",
    "\n",
    "            # Converting string to list\n",
    "            tok_ids = np.array(ast.literal_eval(tok_ids))\n",
    "            h_code_values = np.array(ast.literal_eval(h_code_values))\n",
    "        \n",
    "\n",
    "            X.append(tok_ids)\n",
    "            T.append(h_code_values)\n",
    "    \n",
    "    X = np.array(X, dtype=object)\n",
    "    T = np.array(T, dtype=object)\n",
    "\n",
    "    return X,T"
   ]
  },
  {
   "cell_type": "code",
   "execution_count": 26,
   "id": "240fb65c-b17b-49c5-b710-72be8223f5eb",
   "metadata": {},
   "outputs": [],
   "source": [
    "def split_training_data(X,T,train_percentage=0.7):\n",
    "    \n",
    "    # split into 80/20 training/validation \n",
    "    N= X.shape[0] # get the number of records (rows)\n",
    "    train_size = int(train_percentage * N) # use the first split_coeff of the data as the training data\n",
    "    X_train = X[:train_size] # the first training_size record\n",
    "    T_train = T[:train_size]\n",
    "    X_val = X[train_size:]\n",
    "    T_val = T[train_size:]\n",
    "    \n",
    "    assert X_train.shape[0] == T_train.shape[0]\n",
    "    assert X_val.shape[0] == T_val.shape[0]\n",
    "    \n",
    "    \n",
    "    return X_train, T_train, X_val, T_val"
   ]
  },
  {
   "cell_type": "code",
   "execution_count": 27,
   "id": "a8e8ba08-6399-41b4-b6a5-1fa648fe59df",
   "metadata": {},
   "outputs": [],
   "source": [
    "def shuffle_data(X, T):\n",
    "    assert len(X) == len(T)\n",
    "    shuffle(X, T, random_state=0)\n",
    "    return X, T"
   ]
  },
  {
   "cell_type": "code",
   "execution_count": 28,
   "id": "25df1328-4785-4ce3-aca1-ea39ab245eee",
   "metadata": {
    "tags": []
   },
   "outputs": [],
   "source": [
    "def train(X, T, epochs=10):\n",
    "    MODEL.setup_for_finetuning()\n",
    "    losses = np.array([])\n",
    "    for epoch in range(epochs):\n",
    "        print(f'Loading {epoch+1}0%')\n",
    "        epoch_losses = np.array([])\n",
    "        for idx,x in enumerate(X):\n",
    "            epoch_loss= MODEL.finetune_on(x,T[idx])\n",
    "            epoch_losses = np.append(epoch_losses,epoch_loss)  \n",
    "        avg_epoch_loss = np.mean(epoch_losses)\n",
    "        losses = np.append(losses,avg_epoch_loss)\n",
    "        print(f'Average Loss {avg_epoch_loss} in epoch {epoch+1}')\n",
    "    return losses\n"
   ]
  },
  {
   "cell_type": "code",
   "execution_count": 29,
   "id": "601551d3-0daf-46a7-ae70-6feb835f2996",
   "metadata": {},
   "outputs": [],
   "source": [
    "def accuracy(X,T):\n",
    "    MODEL.setup_for_prediction()\n",
    "    correct = 0\n",
    "    total = 0\n",
    "    for idx, x in enumerate(X):\n",
    "        h_codes=MODEL.predict(x) # [2,3,4,6]\n",
    "        for j, h_code in enumerate(h_codes):\n",
    "            if h_code == T[idx][j]:\n",
    "                correct +=1\n",
    "            total +=1\n",
    "    \n",
    "    return correct/total"
   ]
  },
  {
   "cell_type": "code",
   "execution_count": 30,
   "id": "c9810709-80d5-40d9-a379-f6d1251ad7c1",
   "metadata": {},
   "outputs": [],
   "source": [
    "def model_switch(X,T):\n",
    "    # split data in train & val\n",
    "    X_train, T_train, X_val, T_val = split_training_data(X,T)\n",
    "    # do a second split on the validation data to test accuracy of current model\n",
    "    X_val_before, T_val_before, X_val_after, T_val_after = split_training_data(X_val,T_val, 0.5)\n",
    "    # test current accuracy\n",
    "    curr_acc = accuracy(X_val_before,T_val_before)\n",
    "    # shuffle train data\n",
    "    X_train, T_train = shuffle_data(X_train, T_train)\n",
    "    # train current model\n",
    "    train(X_train, T_train)\n",
    "    # test the accuracy of new model\n",
    "    new_acc = accuracy(X_val_after, T_val_after)\n",
    "    print(new_acc)\n",
    "    \n",
    "    if new_acc > curr_acc:\n",
    "        return True    "
   ]
  },
  {
   "cell_type": "code",
   "execution_count": 31,
   "id": "8c6e735d-990d-4299-b98d-7f96d5464231",
   "metadata": {},
   "outputs": [
    {
     "name": "stdout",
     "output_type": "stream",
     "text": [
      "Loading 10%\n",
      "Average Loss 1.6616669282032426 in epoch 1\n",
      "Loading 20%\n",
      "Average Loss 0.8611268176204839 in epoch 2\n",
      "Loading 30%\n",
      "Average Loss 0.6020236037149551 in epoch 3\n",
      "Loading 40%\n",
      "Average Loss 0.45838947005712305 in epoch 4\n",
      "Loading 50%\n",
      "Average Loss 0.36284984738393955 in epoch 5\n",
      "Loading 60%\n",
      "Average Loss 0.29171075353956527 in epoch 6\n",
      "Loading 70%\n",
      "Average Loss 0.23500488416119747 in epoch 7\n",
      "Loading 80%\n",
      "Average Loss 0.19220030229467494 in epoch 8\n",
      "Loading 90%\n",
      "Average Loss 0.16035605796203492 in epoch 9\n",
      "Loading 100%\n",
      "Average Loss 0.13596369031887906 in epoch 10\n",
      "0.9817500158861282\n",
      "True\n"
     ]
    }
   ],
   "source": [
    "X,T = data_preparation(\"highlight-java.txt\")\n",
    "print(model_switch(X,T))"
   ]
  },
  {
   "cell_type": "code",
   "execution_count": null,
   "id": "40ddb307-7571-4f06-a5a4-1bdd88632568",
   "metadata": {},
   "outputs": [],
   "source": []
  }
 ],
 "metadata": {
  "kernelspec": {
   "display_name": "Python 3 (ipykernel)",
   "language": "python",
   "name": "python3"
  },
  "language_info": {
   "codemirror_mode": {
    "name": "ipython",
    "version": 3
   },
   "file_extension": ".py",
   "mimetype": "text/x-python",
   "name": "python",
   "nbconvert_exporter": "python",
   "pygments_lexer": "ipython3",
   "version": "3.9.7"
  }
 },
 "nbformat": 4,
 "nbformat_minor": 5
}
